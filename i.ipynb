{
 "cells": [
  {
   "cell_type": "code",
   "execution_count": null,
   "metadata": {},
   "outputs": [],
   "source": [
    "# import ast\n",
    "\n",
    "# # Load the Excel file\n",
    "# df = pd.read_excel('car_details_by_citys.xlsx')\n",
    "\n",
    "# # Function to safely convert strings to dictionaries\n",
    "# def to_dict_safe(value):\n",
    "#     try:\n",
    "#         # Convert only if the value is a string that represents a dictionary\n",
    "#         return ast.literal_eval(value) if isinstance(value, str) else value\n",
    "#     except (ValueError, SyntaxError):\n",
    "#         return {}\n",
    "\n",
    "# # Apply the function to each JSON-like column\n",
    "# df['new_car_detail'] = df['new_car_detail'].apply(to_dict_safe)\n",
    "# df['new_car_overview'] = df['new_car_overview'].apply(to_dict_safe)\n",
    "# df['new_car_feature'] = df['new_car_feature'].apply(to_dict_safe)\n",
    "# df['new_car_specs'] = df['new_car_specs'].apply(to_dict_safe)\n",
    "\n",
    "# # Normalize each dictionary column\n",
    "# car_detail_df = pd.json_normalize(df['new_car_detail'])\n",
    "# car_overview_df = pd.json_normalize(df['new_car_overview'], record_path='top', meta=['heading'], errors='ignore')\n",
    "# car_feature_df = pd.json_normalize(df['new_car_feature'], record_path='top', meta=['heading'], errors='ignore')\n",
    "# car_specs_df = pd.json_normalize(df['new_car_specs'], record_path='top', meta=['heading'], errors='ignore')\n",
    "\n",
    "# # Add columns with 'city' and 'car_links' to the main DataFrame before concatenation\n",
    "# df_main = df[['city', 'car_links']]\n",
    "\n",
    "# # Combine all normalized DataFrames\n",
    "# final_df = pd.concat([df_main, car_detail_df, car_overview_df, car_feature_df, car_specs_df], axis=1)\n",
    "\n",
    "# # Save the combined DataFrame to a new Excel file\n",
    "# final_df.to_excel('extracted_car_details.xlsx', index=False)\n",
    "\n",
    "# print(\"Data extracted and saved successfully as 'extracted_car_details.xlsx'\")\n",
    "\n",
    "# car_details  = pd.read_excel('extracted_car_details.xlsx')\n",
    "# car_details \n"
   ]
  },
  {
   "cell_type": "code",
   "execution_count": null,
   "metadata": {},
   "outputs": [],
   "source": [
    "# car_details_cleaned['No of Cylinder'].unique()\n",
    "\n",
    "# car_details_cleaned[['Turbo Charger', 'Super Charger' ]]\n",
    "\n",
    "# car_details_cleaned[['Turbo Charger', 'Super Charger','Alloy Wheel Size', 'Wheel Size' ]].isnull().sum()\n",
    "\n",
    "# # car_details_cleaned['Turbo Charger', 'Super Charger','modelYear','Registration Year','Year of Manufacture'].nunique().sum()\n",
    "\n",
    "# # Select multiple columns using double square brackets\n",
    "# unique_values_sum = car_details_cleaned[['Turbo Charger', 'Super Charger','Engine', 'Alloy Wheel Size', 'Wheel Size' ]].nunique()\n",
    "\n",
    "# unique_values_sum\n",
    "\n",
    "# # Compare the columns\n",
    "# car_details_cleaned['Comparisons'] = car_details_cleaned['Alloy Wheel Size'] == car_details_cleaned['Wheel Size']\n",
    "# car_details_cleaned\n",
    "\n",
    "# car_details_cleaned['Comparisons'].value_counts()\n",
    "\n",
    "# # Print rows where 'Comparisons' column is False\n",
    "# false_rows = car_details_cleaned[car_details_cleaned['Comparisons'] == False]\n",
    "# false_rows"
   ]
  },
  {
   "cell_type": "code",
   "execution_count": null,
   "metadata": {},
   "outputs": [],
   "source": [
    "# import pandas as pd\n",
    "\n",
    "# # Sample columns to remove units from\n",
    "# columns_to_clean = ['Column1', 'Column2', 'Column3', ...]  # replace with your actual column names\n",
    "\n",
    "# # Define a regex pattern to match all units you want to remove\n",
    "# pattern = r'\\b(lit|kg|km|mm|lakh|₹)\\b'\n",
    "\n",
    "# # Apply the regex pattern to each specified column\n",
    "# for column in columns_to_clean:\n",
    "#     car_details_cleaned[column] = car_details_cleaned[column].astype(str).str.replace(pattern, '', regex=True)\n",
    "\n",
    "# # Optionally, you can strip whitespace if needed\n",
    "# car_details_cleaned[columns_to_clean] = car_details_cleaned[columns_to_clean].apply(lambda x: x.str.strip())\n",
    "\n",
    "# print(car_details_cleaned[columns_to_clean])\n"
   ]
  },
  {
   "cell_type": "code",
   "execution_count": null,
   "metadata": {},
   "outputs": [],
   "source": [
    "import pandas as pd\n",
    "\n",
    "# Define the columns to clean\n",
    "columns_to_clean = ['Column1', 'Column2', 'Column3', ...]  # replace with your actual column names\n",
    "\n",
    "# Define the regex pattern to match all units you want to remove\n",
    "pattern = r'\\b(₹|Lakh|kmpl|CC|mm|kg|metres|Kmph|Sec|Seconds|Lit|litres)\\b'\n",
    "\n",
    "# Apply the regex pattern to each specified column where dtype is object\n",
    "for column in columns_to_clean:\n",
    "    if Final[column].dtype == 'object':\n",
    "        Final[column] = Final[column].str.replace(pattern, '', regex=True).str.strip()\n",
    "\n",
    "print(Final[columns_to_clean].head())  # Display cleaned columns\n"
   ]
  }
 ],
 "metadata": {
  "kernelspec": {
   "display_name": "env",
   "language": "python",
   "name": "python3"
  },
  "language_info": {
   "name": "python",
   "version": "3.12.3"
  }
 },
 "nbformat": 4,
 "nbformat_minor": 2
}
